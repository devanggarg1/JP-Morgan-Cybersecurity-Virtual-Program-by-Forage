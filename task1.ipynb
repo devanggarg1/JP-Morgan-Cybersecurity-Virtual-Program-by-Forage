{
 "cells": [
  {
   "cell_type": "markdown",
   "id": "bb163b7b",
   "metadata": {
    "id": "bb163b7b"
   },
   "source": [
    "Step 1. Ensure that you have the dataset file named `transactions.csv` in the current directory.\n",
    "\n",
    "The dataset is a subset of https://www.kaggle.com/ealaxi/paysim1/version/2 which was originally generated as part of the following research:\n",
    "\n",
    "E. A. Lopez-Rojas , A. Elmir, and S. Axelsson. \"PaySim: A financial mobile money simulator for fraud detection\". In: The 28th European Modeling and Simulation Symposium-EMSS, Larnaca, Cyprus. 2016"
   ]
  },
  {
   "cell_type": "markdown",
   "id": "72c898bd",
   "metadata": {
    "id": "72c898bd"
   },
   "source": [
    "Step 2. Complete the following exercises.\n",
    "\n",
    "0. Read the dataset (`transactions.csv`) as a Pandas dataframe. Note that the first row of the CSV contains the column names.\n",
    "\n",
    "0. Return the column names as a list from the dataframe.\n",
    "\n",
    "0. Return the first k rows from the dataframe.\n",
    "\n",
    "0. Return a random sample of k rows from the dataframe.\n",
    "\n",
    "0. Return a list of the unique transaction types.\n",
    "\n",
    "0. Return a Pandas series of the top 10 transaction destinations with frequencies.\n",
    "\n",
    "0. Return all the rows from the dataframe for which fraud was detected.\n",
    "\n",
    "0. Bonus. Return a dataframe that contains the number of distinct destinations that each source has interacted with to, sorted in descending order. You will find [groupby](https://pandas.pydata.org/pandas-docs/stable/reference/api/pandas.DataFrame.groupby.html) and [agg](https://pandas.pydata.org/pandas-docs/stable/reference/api/pandas.core.groupby.DataFrameGroupBy.aggregate.html) useful. The predefined aggregate functions are under `pandas.core.groupby.GroupBy.*`. See the [left hand column](https://pandas.pydata.org/pandas-docs/stable/reference/api/pandas.core.groupby.DataFrameGroupBy.nunique.html)."
   ]
  },
  {
   "cell_type": "markdown",
   "id": "2f146b9d",
   "metadata": {
    "id": "2f146b9d"
   },
   "source": [
    "Use the empty cell to test the exercises. If you modify the original `df`, you can rerun the cell containing `exercise_0`."
   ]
  },
  {
   "cell_type": "code",
   "execution_count": null,
   "id": "EDd3m5pMN01e",
   "metadata": {
    "id": "EDd3m5pMN01e"
   },
   "outputs": [],
   "source": [
    "import pandas as pd\n",
    "import matplotlib.pyplot as plt\n",
    "\n",
    "def exercise_0(file):\n",
    "    return pd.read_csv(file)\n",
    "\n",
    "def exercise_1(df):\n",
    "    return df.columns.tolist()\n",
    "\n",
    "def exercise_2(df, k):\n",
    "    return df.head(k)\n",
    "\n",
    "def exercise_3(df, k):\n",
    "    return df.sample(n=k)\n",
    "def exercise_4(df):\n",
    "    return df['type'].unique().tolist()\n",
    "\n",
    "def exercise_5(df):\n",
    "    return df['nameDest'].value_counts().head(10)\n",
    "\n",
    "def exercise_6(df):\n",
    "    return df[df['isFraud'] == 1]\n",
    "\n",
    "def exercise_7(df):\n",
    "    df.groupby('source')['destination'].nunique().reset_index()\n",
    "\n",
    "def visual_1(df):\n",
    "    pass\n",
    "\n",
    "def visual_2(df):\n",
    "    pass\n",
    "\n",
    "def exercise_custom(df):\n",
    "    pass\n",
    "    \n",
    "def visual_custom(df):\n",
    "    pass"
   ]
  },
  {
   "cell_type": "code",
   "execution_count": 1,
   "id": "346fc3fc",
   "metadata": {
    "id": "346fc3fc"
   },
   "outputs": [
    {
     "ename": "NameError",
     "evalue": "name 'exercise_0' is not defined",
     "output_type": "error",
     "traceback": [
      "\u001b[1;31m---------------------------------------------------------------------------\u001b[0m",
      "\u001b[1;31mNameError\u001b[0m                                 Traceback (most recent call last)",
      "\u001b[1;32m<ipython-input-1-434b5161b4c9>\u001b[0m in \u001b[0;36m<module>\u001b[1;34m\u001b[0m\n\u001b[1;32m----> 1\u001b[1;33m \u001b[0mdf\u001b[0m \u001b[1;33m=\u001b[0m \u001b[0mexercise_0\u001b[0m\u001b[1;33m(\u001b[0m\u001b[1;34m'transactions.csv'\u001b[0m\u001b[1;33m)\u001b[0m\u001b[1;33m\u001b[0m\u001b[1;33m\u001b[0m\u001b[0m\n\u001b[0m",
      "\u001b[1;31mNameError\u001b[0m: name 'exercise_0' is not defined"
     ]
    }
   ],
   "source": [
    "df = exercise_0('transactions.csv')"
   ]
  },
  {
   "cell_type": "code",
   "execution_count": 2,
   "id": "9158f0bd",
   "metadata": {
    "id": "9158f0bd"
   },
   "outputs": [],
   "source": [
    "# Test exercises here\n",
    "import pandas as pd\n",
    "import matplotlib.pyplot as plt\n",
    "\n",
    "def exercise_0(file):\n",
    "    return pd.read_csv(file)\n",
    "\n",
    "def exercise_1(df):\n",
    "    return df.columns.tolist()\n",
    "\n",
    "def exercise_2(df, k):\n",
    "    return df.head(k)\n",
    "\n",
    "def exercise_3(df, k):\n",
    "    return df.sample(n=k)\n",
    "def exercise_4(df):\n",
    "    return df['type'].unique().tolist()\n",
    "\n",
    "def exercise_5(df):\n",
    "    return df['nameDest'].value_counts().head(10)\n",
    "\n",
    "def exercise_6(df):\n",
    "    return df[df['isFraud'] == 1]\n",
    "df = exercise_0('transactions.csv')"
   ]
  },
  {
   "cell_type": "code",
   "execution_count": 5,
   "id": "9c954be4",
   "metadata": {},
   "outputs": [
    {
     "name": "stdout",
     "output_type": "stream",
     "text": [
      "['step', 'type', 'amount', 'nameOrig', 'oldbalanceOrg', 'newbalanceOrig', 'nameDest', 'oldbalanceDest', 'newbalanceDest', 'isFraud', 'isFlaggedFraud']\n",
      "\n",
      "\n",
      "\n",
      "\n",
      "   step      type   amount     nameOrig  oldbalanceOrg  newbalanceOrig  \\\n",
      "0     1   PAYMENT  9839.64  C1231006815       170136.0       160296.36   \n",
      "1     1   PAYMENT  1864.28  C1666544295        21249.0        19384.72   \n",
      "2     1  TRANSFER   181.00  C1305486145          181.0            0.00   \n",
      "3     1  CASH_OUT   181.00   C840083671          181.0            0.00   \n",
      "\n",
      "      nameDest  oldbalanceDest  newbalanceDest  isFraud  isFlaggedFraud  \n",
      "0  M1979787155             0.0             0.0        0               0  \n",
      "1  M2044282225             0.0             0.0        0               0  \n",
      "2   C553264065             0.0             0.0        1               0  \n",
      "3    C38997010         21182.0             0.0        1               0  \n",
      "\n",
      "\n",
      "\n",
      "\n",
      "        step      type     amount     nameOrig  oldbalanceOrg  newbalanceOrig  \\\n",
      "113971    11   PAYMENT   11148.79  C1640805159      169120.74       157971.94   \n",
      "108377    10  CASH_OUT  141987.71  C1506113952      419310.66       277322.95   \n",
      "20385      8   CASH_IN  236471.02   C421392910     5118927.74      5355398.76   \n",
      "113727    11   CASH_IN  173135.59    C95105036    22454889.95     22628025.55   \n",
      "38247      9   PAYMENT   16966.79    C38642998           0.00            0.00   \n",
      "\n",
      "           nameDest  oldbalanceDest  newbalanceDest  isFraud  isFlaggedFraud  \n",
      "113971  M2145384173            0.00            0.00        0               0  \n",
      "108377  C1133007712       757008.32       916240.10        0               0  \n",
      "20385    C428796726      1089782.79       847656.86        0               0  \n",
      "113727  C2070713570      1525265.35      1352129.76        0               0  \n",
      "38247    M256819884            0.00            0.00        0               0  \n",
      "\n",
      "\n",
      "\n",
      "\n",
      "['PAYMENT', 'TRANSFER', 'CASH_OUT', 'DEBIT', 'CASH_IN']\n",
      "\n",
      "\n",
      "\n",
      "\n",
      "C985934102     84\n",
      "C1286084959    80\n",
      "C248609774     75\n",
      "C1590550415    74\n",
      "C2083562754    74\n",
      "C665576141     72\n",
      "C977993101     70\n",
      "C1360767589    69\n",
      "C451111351     66\n",
      "C97730845      64\n",
      "Name: nameDest, dtype: int64\n",
      "\n",
      "\n",
      "\n",
      "\n",
      "        step      type      amount     nameOrig  oldbalanceOrg  \\\n",
      "2          1  TRANSFER      181.00  C1305486145         181.00   \n",
      "3          1  CASH_OUT      181.00   C840083671         181.00   \n",
      "251        1  TRANSFER     2806.00  C1420196421        2806.00   \n",
      "252        1  CASH_OUT     2806.00  C2101527076        2806.00   \n",
      "680        1  TRANSFER    20128.00   C137533655       20128.00   \n",
      "...      ...       ...         ...          ...            ...   \n",
      "182862    13  CASH_OUT      408.00  C1894004688         408.00   \n",
      "193765    13  TRANSFER    48375.02   C920803432       48375.02   \n",
      "193766    13  CASH_OUT    48375.02  C1894578299       48375.02   \n",
      "196775    13  TRANSFER  4022667.54   C735463888     4022667.54   \n",
      "196776    13  CASH_OUT  4022667.54    C79951219     4022667.54   \n",
      "\n",
      "        newbalanceOrig     nameDest  oldbalanceDest  newbalanceDest  isFraud  \\\n",
      "2                  0.0   C553264065            0.00            0.00        1   \n",
      "3                  0.0    C38997010        21182.00            0.00        1   \n",
      "251                0.0   C972765878            0.00            0.00        1   \n",
      "252                0.0  C1007251739        26202.00            0.00        1   \n",
      "680                0.0  C1848415041            0.00            0.00        1   \n",
      "...                ...          ...             ...             ...      ...   \n",
      "182862             0.0  C1293978242       898297.85      1075854.14        1   \n",
      "193765             0.0  C1767389067            0.00            0.00        1   \n",
      "193766             0.0   C590035788       374803.26       658520.33        1   \n",
      "196775             0.0  C1548348754            0.00            0.00        1   \n",
      "196776             0.0  C1499489682        80136.56      4057191.21        1   \n",
      "\n",
      "        isFlaggedFraud  \n",
      "2                    0  \n",
      "3                    0  \n",
      "251                  0  \n",
      "252                  0  \n",
      "680                  0  \n",
      "...                ...  \n",
      "182862               0  \n",
      "193765               0  \n",
      "193766               0  \n",
      "196775               0  \n",
      "196776               0  \n",
      "\n",
      "[147 rows x 11 columns]\n",
      "\n",
      "\n",
      "\n",
      "\n"
     ]
    }
   ],
   "source": [
    "print(exercise_1(df))\n",
    "print(\"\\n\")\n",
    "print(\"\\n\")\n",
    "print(exercise_2(df,4))\n",
    "print(\"\\n\")\n",
    "print(\"\\n\")\n",
    "print(exercise_3(df,5))\n",
    "print(\"\\n\")\n",
    "print(\"\\n\")\n",
    "print(exercise_4(df))\n",
    "print(\"\\n\")\n",
    "print(\"\\n\")\n",
    "print(exercise_5(df))\n",
    "print(\"\\n\")\n",
    "print(\"\\n\")\n",
    "print(exercise_6(df))\n",
    "print(\"\\n\")\n",
    "print(\"\\n\")"
   ]
  },
  {
   "cell_type": "code",
   "execution_count": null,
   "id": "384f7bff",
   "metadata": {},
   "outputs": [],
   "source": []
  },
  {
   "cell_type": "code",
   "execution_count": null,
   "id": "0d810d8f",
   "metadata": {},
   "outputs": [],
   "source": []
  },
  {
   "cell_type": "code",
   "execution_count": null,
   "id": "aa239dff",
   "metadata": {},
   "outputs": [],
   "source": []
  },
  {
   "cell_type": "markdown",
   "id": "ed2dc2f4",
   "metadata": {
    "id": "ed2dc2f4"
   },
   "source": [
    "Create graphs for the following. \n",
    "1. Transaction types bar chart, Transaction types split by fraud bar chart\n",
    "1. Origin account balance delta v. Destination account balance delta scatter plot for Cash Out transactions\n",
    "\n",
    "Ensure that the graphs have the following:\n",
    " - Title\n",
    " - Labeled Axes\n",
    " \n",
    "The function plot the graph and then return a string containing a short description explaining the relevance of the chart."
   ]
  },
  {
   "cell_type": "code",
   "execution_count": null,
   "id": "ab229b34",
   "metadata": {
    "id": "ab229b34"
   },
   "outputs": [],
   "source": [
    "def visual_1(df):\n",
    "    def transaction_counts(df):\n",
    "        # TODO\n",
    "        pass\n",
    "    def transaction_counts_split_by_fraud(df):\n",
    "        # TODO\n",
    "        pass\n",
    "\n",
    "    fig, axs = plt.subplots(2, figsize=(6,10))\n",
    "    transaction_counts(df).plot(ax=axs[0], kind='bar')\n",
    "    axs[0].set_title('TODO')\n",
    "    axs[0].set_xlabel('TODO')\n",
    "    axs[0].set_ylabel('TODO')\n",
    "    transaction_counts_split_by_fraud(df).plot(ax=axs[1], kind='bar')\n",
    "    axs[1].set_title('TODO')\n",
    "    axs[1].set_xlabel('TODO')\n",
    "    axs[1].set_ylabel('TODO')\n",
    "    fig.suptitle('TODO')\n",
    "    fig.tight_layout(rect=[0, 0.03, 1, 0.95])\n",
    "    for ax in axs:\n",
    "      for p in ax.patches:\n",
    "          ax.annotate(p.get_height(), (p.get_x(), p.get_height()))\n",
    "    return 'TODO'\n",
    "\n",
    "visual_1(df)\n"
   ]
  },
  {
   "cell_type": "code",
   "execution_count": null,
   "id": "38ab2f47",
   "metadata": {
    "id": "38ab2f47"
   },
   "outputs": [],
   "source": [
    "def visual_2(df):\n",
    "    def query(df):\n",
    "        # TODO\n",
    "        pass\n",
    "    plot = query(df).plot.scatter(x='TODO',y='TODO')\n",
    "    plot.set_title('TODO')\n",
    "    plot.set_xlim(left=-1e3, right=1e3)\n",
    "    plot.set_ylim(bottom=-1e3, top=1e3)\n",
    "    return 'TODO'\n",
    "\n",
    "visual_2(df)\n"
   ]
  },
  {
   "cell_type": "markdown",
   "id": "f572d06d",
   "metadata": {
    "id": "f572d06d"
   },
   "source": [
    "Use your newly-gained Pandas skills to find an insight from the dataset. You have full flexibility to go in whichever direction interests you. Please create a visual as above for this query. `visual_custom` should call `exercise_custom`."
   ]
  },
  {
   "cell_type": "code",
   "execution_count": null,
   "id": "5393e5c5",
   "metadata": {
    "id": "5393e5c5"
   },
   "outputs": [],
   "source": [
    "def exercise_custom(df):\n",
    "    # TODO\n",
    "    pass\n",
    "    \n",
    "def visual_custom(df):\n",
    "    # TODO\n",
    "    pass"
   ]
  },
  {
   "cell_type": "code",
   "execution_count": null,
   "id": "e98fe519",
   "metadata": {},
   "outputs": [],
   "source": []
  },
  {
   "cell_type": "code",
   "execution_count": 6,
   "id": "74d13a09",
   "metadata": {},
   "outputs": [
    {
     "data": {
      "image/png": "[encoded data removed]",
      "text/plain": [
       "<Figure size 432x288 with 1 Axes>"
      ]
     },
     "metadata": {
      "needs_background": "light"
     },
     "output_type": "display_data"
    }
   ],
   "source": [
    "\n",
    "\n",
    "\n",
    "transaction_type_counts = df['type'].value_counts()\n",
    "\n",
    "plt.bar(transaction_type_counts.index, transaction_type_counts.values)\n",
    "plt.xlabel('Transaction Types')\n",
    "plt.ylabel('Count')\n",
    "plt.title('Transaction Types Bar Chart')\n",
    "plt.xticks(rotation=90)\n",
    "plt.show()\n"
   ]
  },
  {
   "cell_type": "code",
   "execution_count": 8,
   "id": "5e455d34",
   "metadata": {},
   "outputs": [
    {
     "data": {
      "image/png": "[encoded data removed]",
      "text/plain": [
       "<Figure size 432x288 with 1 Axes>"
      ]
     },
     "metadata": {
      "needs_background": "light"
     },
     "output_type": "display_data"
    }
   ],
   "source": [
    "\n",
    "fraud_transaction_counts = df[df['isFraud'] == 1]['type'].value_counts()\n",
    "legitimate_transaction_counts = df[df['isFraud'] == 0]['type'].value_counts()\n",
    "\n",
    "\n",
    "fraud_transaction_counts = fraud_transaction_counts.reindex(legitimate_transaction_counts.index, fill_value=0)\n",
    "\n",
    "fig, ax = plt.subplots()\n",
    "width = 0.4\n",
    "x = range(len(fraud_transaction_counts))\n",
    "\n",
    "ax.bar(x, fraud_transaction_counts.values, width, label='Fraud')\n",
    "ax.bar([i + width for i in x], legitimate_transaction_counts.values, width, label='Legitimate')\n",
    "\n",
    "ax.set_xlabel('Transaction Types')\n",
    "ax.set_ylabel('Count')\n",
    "ax.set_title('Transaction Types Split by Fraud Bar Chart')\n",
    "ax.set_xticks([i + width/2 for i in x])\n",
    "ax.set_xticklabels(fraud_transaction_counts.index, rotation=90)\n",
    "ax.legend()\n",
    "\n",
    "plt.show()\n"
   ]
  },
  {
   "cell_type": "code",
   "execution_count": 10,
   "id": "cbfdd146",
   "metadata": {},
   "outputs": [
    {
     "data": {
      "image/png": "[encoded data removed]",
      "text/plain": [
       "<Figure size 432x288 with 1 Axes>"
      ]
     },
     "metadata": {
      "needs_background": "light"
     },
     "output_type": "display_data"
    }
   ],
   "source": [
    "\n",
    "\n",
    "cash_out_transactions = df[df['type'] == 'CASH_OUT']\n",
    "\n",
    "plt.scatter(cash_out_transactions['newbalanceOrig'] - cash_out_transactions['oldbalanceOrg'],cash_out_transactions['newbalanceDest'] - cash_out_transactions['oldbalanceDest'])\n",
    "plt.xlabel('Origin Account Balance Delta')\n",
    "plt.ylabel('Destination Account Balance Delta')\n",
    "plt.title('Origin Account Balance Delta v. Destination Account Balance Delta (Cash Out)')\n",
    "plt.show()\n"
   ]
  },
  {
   "cell_type": "code",
   "execution_count": null,
   "id": "232296df",
   "metadata": {},
   "outputs": [],
   "source": []
  },
  {
   "cell_type": "code",
   "execution_count": null,
   "id": "58f36ce3",
   "metadata": {},
   "outputs": [],
   "source": []
  },
  {
   "cell_type": "code",
   "execution_count": null,
   "id": "d37f37c5",
   "metadata": {},
   "outputs": [],
   "source": []
  },
  {
   "cell_type": "code",
   "execution_count": null,
   "id": "2f5e23af",
   "metadata": {},
   "outputs": [],
   "source": []
  },
  {
   "cell_type": "code",
   "execution_count": null,
   "id": "59fba6ad",
   "metadata": {},
   "outputs": [],
   "source": []
  },
  {
   "cell_type": "code",
   "execution_count": null,
   "id": "20b9c3c1",
   "metadata": {},
   "outputs": [],
   "source": []
  },
  {
   "cell_type": "code",
   "execution_count": null,
   "id": "32ef9c1f",
   "metadata": {},
   "outputs": [],
   "source": []
  },
  {
   "cell_type": "markdown",
   "id": "ddecc786",
   "metadata": {
    "id": "ddecc786"
   },
   "source": [
    "Submission\n",
    "\n",
    "1. Copy the exercises into `task1.py`.\n",
    "2. Upload `task1.py` to Forage."
   ]
  },
  {
   "cell_type": "markdown",
   "id": "qpIxC3xgQpOo",
   "metadata": {
    "id": "qpIxC3xgQpOo"
   },
   "source": [
    "All done!\n",
    "\n",
    "Your work will be instrumental for our team's continued success."
   ]
  }
 ],
 "metadata": {
  "colab": {
   "collapsed_sections": [],
   "name": "task1.ipynb",
   "provenance": []
  },
  "kernelspec": {
   "display_name": "Python 3",
   "language": "python",
   "name": "python3"
  },
  "language_info": {
   "codemirror_mode": {
    "name": "ipython",
    "version": 3
   },
   "file_extension": ".py",
   "mimetype": "text/x-python",
   "name": "python",
   "nbconvert_exporter": "python",
   "pygments_lexer": "ipython3",
   "version": "3.8.8"
  }
 },
 "nbformat": 4,
 "nbformat_minor": 5
}
